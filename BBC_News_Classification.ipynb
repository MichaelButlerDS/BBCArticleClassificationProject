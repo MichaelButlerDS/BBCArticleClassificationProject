{
  "nbformat": 4,
  "nbformat_minor": 0,
  "metadata": {
    "colab": {
      "provenance": [],
      "machine_shape": "hm",
      "gpuClass": "premium",
      "gpuType": "L4"
    },
    "kernelspec": {
      "name": "python3",
      "display_name": "Python 3"
    },
    "language_info": {
      "name": "python"
    },
    "accelerator": "GPU"
  },
  "cells": [
    {
      "cell_type": "markdown",
      "source": [
        "### **BBC News Classification Project**"
      ],
      "metadata": {
        "id": "JnP2WokDUavt"
      }
    },
    {
      "cell_type": "markdown",
      "source": [
        "The problem this project is solving is classifying analyzing and classifying articles based on their contents. Methods of pre-processing text data using nltk and Tfidf Vectorizer will be used to produce efficient and effective machine learning modules. The results of this test showed that the supervised SVC produced more accurate models, while taking much longer training time and unsupervised NMF model produced a slightly less accurate, but much more efficient fit. The test data set produced an accuracy of .91 for the leaderboard (after deadline)"
      ],
      "metadata": {
        "id": "RC2l9hRD1FeL"
      }
    },
    {
      "cell_type": "markdown",
      "source": [],
      "metadata": {
        "id": "tPPZFvd82WQ4"
      }
    },
    {
      "cell_type": "code",
      "source": [
        "import pandas as pd\n",
        "import numpy as np\n",
        "import itertools\n",
        "import random\n",
        "import os\n",
        "from itertools import permutations\n",
        "import matplotlib.pyplot as plt\n",
        "import seaborn as sns\n",
        "import nltk\n",
        "nltk.download('stopwords')\n",
        "nltk.download('punkt')\n",
        "import re\n",
        "import spacy\n",
        "from nltk.corpus import stopwords\n",
        "from nltk.tokenize import word_tokenize as tokenize\n",
        "from sklearn.feature_extraction.text import TfidfVectorizer\n",
        "from sklearn.linear_model import LogisticRegression\n",
        "from sklearn.decomposition import NMF\n",
        "from sklearn.pipeline import Pipeline\n",
        "from sklearn.linear_model import LogisticRegression\n",
        "from sklearn.ensemble import RandomForestClassifier\n",
        "from sklearn.svm import SVC\n",
        "\n",
        "from sklearn.metrics import make_scorer, accuracy_score\n",
        "from sklearn.base import BaseEstimator, ClassifierMixin\n",
        "from sklearn.model_selection import GridSearchCV"
      ],
      "metadata": {
        "colab": {
          "base_uri": "https://localhost:8080/"
        },
        "id": "Ytxkj7WuGH3v",
        "outputId": "fb8b7131-34d1-415b-8b93-6a8b939c89de"
      },
      "execution_count": 2,
      "outputs": [
        {
          "output_type": "stream",
          "name": "stderr",
          "text": [
            "[nltk_data] Downloading package stopwords to /root/nltk_data...\n",
            "[nltk_data]   Unzipping corpora/stopwords.zip.\n",
            "[nltk_data] Downloading package punkt to /root/nltk_data...\n",
            "[nltk_data]   Unzipping tokenizers/punkt.zip.\n"
          ]
        }
      ]
    },
    {
      "cell_type": "code",
      "source": [
        "from google.colab import drive\n",
        "drive.mount('/content/drive')"
      ],
      "metadata": {
        "colab": {
          "base_uri": "https://localhost:8080/"
        },
        "id": "q7kdIZPJVvaA",
        "outputId": "3806f924-92f2-4cb8-eb39-7178891a417f"
      },
      "execution_count": 3,
      "outputs": [
        {
          "output_type": "stream",
          "name": "stdout",
          "text": [
            "Mounted at /content/drive\n"
          ]
        }
      ]
    },
    {
      "cell_type": "markdown",
      "source": [
        "Load The Data sets from Google drive"
      ],
      "metadata": {
        "id": "j_vOoxVzWgDS"
      }
    },
    {
      "cell_type": "code",
      "source": [
        "train = pd.read_csv(\"drive/MyDrive/ML Files/ML2/BBC News Train.csv\")\n",
        "test = pd.read_csv(\"drive/MyDrive/ML Files/ML2/BBC News Test.csv\")\n",
        "Answer = pd.read_csv(\"drive/MyDrive/ML Files/ML2/BBC News Sample Solution.csv\")"
      ],
      "metadata": {
        "id": "80W9bjbOWYX8"
      },
      "execution_count": 4,
      "outputs": []
    },
    {
      "cell_type": "markdown",
      "source": [
        "View basic information about each dataset. The training dataset has the category and text, while the answer has just the category and test has just the text. All have no null values."
      ],
      "metadata": {
        "id": "BfNQCcDvWsjH"
      }
    },
    {
      "cell_type": "code",
      "source": [
        "print(\"Train Data Sample\\n\")\n",
        "print(train.head())\n",
        "print(\"\\nTrain Data Info\\n\")\n",
        "print(train.info())\n",
        "print(\"\\nTrain Data Shape\\n\")\n",
        "print(train.shape)"
      ],
      "metadata": {
        "colab": {
          "base_uri": "https://localhost:8080/"
        },
        "id": "4IsVrGH4Wpc1",
        "outputId": "a373bb15-9c38-41be-e116-b51d792e3da8"
      },
      "execution_count": 5,
      "outputs": [
        {
          "output_type": "stream",
          "name": "stdout",
          "text": [
            "Train Data Sample\n",
            "\n",
            "   ArticleId                                               Text  Category\n",
            "0       1833  worldcom ex-boss launches defence lawyers defe...  business\n",
            "1        154  german business confidence slides german busin...  business\n",
            "2       1101  bbc poll indicates economic gloom citizens in ...  business\n",
            "3       1976  lifestyle  governs mobile choice  faster  bett...      tech\n",
            "4        917  enron bosses in $168m payout eighteen former e...  business\n",
            "\n",
            "Train Data Info\n",
            "\n",
            "<class 'pandas.core.frame.DataFrame'>\n",
            "RangeIndex: 1490 entries, 0 to 1489\n",
            "Data columns (total 3 columns):\n",
            " #   Column     Non-Null Count  Dtype \n",
            "---  ------     --------------  ----- \n",
            " 0   ArticleId  1490 non-null   int64 \n",
            " 1   Text       1490 non-null   object\n",
            " 2   Category   1490 non-null   object\n",
            "dtypes: int64(1), object(2)\n",
            "memory usage: 35.0+ KB\n",
            "None\n",
            "\n",
            "Train Data Shape\n",
            "\n",
            "(1490, 3)\n"
          ]
        }
      ]
    },
    {
      "cell_type": "code",
      "source": [
        "print(\"Test Data Sample\\n\")\n",
        "print(test.head())\n",
        "print(\"\\nTest Data Info\\n\")\n",
        "print(test.info())\n",
        "print(\"\\nTest Data Shape\\n\")\n",
        "print(test.shape)"
      ],
      "metadata": {
        "colab": {
          "base_uri": "https://localhost:8080/"
        },
        "id": "AX_aiNcIQpCo",
        "outputId": "dd82f52e-60c3-4cd1-e9f1-cb9854e56cad"
      },
      "execution_count": 6,
      "outputs": [
        {
          "output_type": "stream",
          "name": "stdout",
          "text": [
            "Test Data Sample\n",
            "\n",
            "   ArticleId                                               Text\n",
            "0       1018  qpr keeper day heads for preston queens park r...\n",
            "1       1319  software watching while you work software that...\n",
            "2       1138  d arcy injury adds to ireland woe gordon d arc...\n",
            "3        459  india s reliance family feud heats up the ongo...\n",
            "4       1020  boro suffer morrison injury blow middlesbrough...\n",
            "\n",
            "Test Data Info\n",
            "\n",
            "<class 'pandas.core.frame.DataFrame'>\n",
            "RangeIndex: 735 entries, 0 to 734\n",
            "Data columns (total 2 columns):\n",
            " #   Column     Non-Null Count  Dtype \n",
            "---  ------     --------------  ----- \n",
            " 0   ArticleId  735 non-null    int64 \n",
            " 1   Text       735 non-null    object\n",
            "dtypes: int64(1), object(1)\n",
            "memory usage: 11.6+ KB\n",
            "None\n",
            "\n",
            "Test Data Shape\n",
            "\n",
            "(735, 2)\n"
          ]
        }
      ]
    },
    {
      "cell_type": "code",
      "source": [
        "print(\"Answer Data Sample\\n\")\n",
        "print(Answer.head())\n",
        "print(\"\\nAnswer Data Info\\n\")\n",
        "print(Answer.info())\n",
        "print(\"\\nAnswer Data Shape\\n\")\n",
        "print(Answer.shape)"
      ],
      "metadata": {
        "colab": {
          "base_uri": "https://localhost:8080/"
        },
        "id": "AnrlM3SMQqEw",
        "outputId": "b23ce681-9170-4cb6-95de-4f3d3809c438"
      },
      "execution_count": 7,
      "outputs": [
        {
          "output_type": "stream",
          "name": "stdout",
          "text": [
            "Answer Data Sample\n",
            "\n",
            "   ArticleId       Category\n",
            "0       1018          sport\n",
            "1       1319           tech\n",
            "2       1138       business\n",
            "3        459  entertainment\n",
            "4       1020       politics\n",
            "\n",
            "Answer Data Info\n",
            "\n",
            "<class 'pandas.core.frame.DataFrame'>\n",
            "RangeIndex: 735 entries, 0 to 734\n",
            "Data columns (total 2 columns):\n",
            " #   Column     Non-Null Count  Dtype \n",
            "---  ------     --------------  ----- \n",
            " 0   ArticleId  735 non-null    int64 \n",
            " 1   Category   735 non-null    object\n",
            "dtypes: int64(1), object(1)\n",
            "memory usage: 11.6+ KB\n",
            "None\n",
            "\n",
            "Answer Data Shape\n",
            "\n",
            "(735, 2)\n"
          ]
        }
      ]
    },
    {
      "cell_type": "markdown",
      "source": [
        "This graph shows the dispersion of the articles by category of the training set. There are no large outliers, so this is a fair representation."
      ],
      "metadata": {
        "id": "D5vhVz7v_hiE"
      }
    },
    {
      "cell_type": "code",
      "source": [
        "counts = train['Category'].value_counts()\n",
        "counts\n",
        "plt.figure(figsize=(10, 6))\n",
        "counts.plot(kind='bar')\n",
        "plt.title('Number of Articles per Each Category')\n",
        "plt.xlabel('Category')\n",
        "plt.ylabel('Number of Articles')\n",
        "plt.show()"
      ],
      "metadata": {
        "id": "MPUjhiowWyz6",
        "colab": {
          "base_uri": "https://localhost:8080/",
          "height": 650
        },
        "outputId": "8bf06241-2643-436b-cd24-d8f57903afc3"
      },
      "execution_count": 8,
      "outputs": [
        {
          "output_type": "display_data",
          "data": {
            "text/plain": [
              "<Figure size 1000x600 with 1 Axes>"
            ],
            "image/png": "[encoded data removed]"
          },
          "metadata": {}
        }
      ]
    },
    {
      "cell_type": "markdown",
      "source": [
        "The length of the text strings is fairy consistent. There are a few outliers, but this is not as important as the specific words in the text string. The number of characters is also consistent, meaning that there are not inconsistencies of length and complexity of words."
      ],
      "metadata": {
        "id": "LJta-j7K-I75"
      }
    },
    {
      "cell_type": "code",
      "source": [
        "train['length'] = train['Text'].apply(len)\n",
        "print(train['length'].describe())\n",
        "def count_words(text):\n",
        "    return len(text.split())\n",
        "train['word_count'] = train['Text'].apply(count_words)\n",
        "print(train['word_count'].describe())"
      ],
      "metadata": {
        "colab": {
          "base_uri": "https://localhost:8080/"
        },
        "id": "TDo43TXnawMc",
        "outputId": "f5ad561b-5e29-4bc7-ca4f-ed5ca6c11bbf"
      },
      "execution_count": 41,
      "outputs": [
        {
          "output_type": "stream",
          "name": "stdout",
          "text": [
            "count     1490.000000\n",
            "mean      2233.461745\n",
            "std       1205.153358\n",
            "min        501.000000\n",
            "25%       1453.000000\n",
            "50%       1961.000000\n",
            "75%       2751.250000\n",
            "max      18387.000000\n",
            "Name: length, dtype: float64\n",
            "count    1490.000000\n",
            "mean      385.012752\n",
            "std       210.898616\n",
            "min        90.000000\n",
            "25%       253.000000\n",
            "50%       337.000000\n",
            "75%       468.750000\n",
            "max      3345.000000\n",
            "Name: word_count, dtype: float64\n"
          ]
        }
      ]
    },
    {
      "cell_type": "markdown",
      "source": [
        "Printed one full example of the article text and category."
      ],
      "metadata": {
        "id": "DLQLB1h5AT0w"
      }
    },
    {
      "cell_type": "code",
      "source": [
        "print('Category: {}\\n'.format(train['Category'][1]))\n",
        "print('Text:\\n{}'.format(train['Text'][1]))"
      ],
      "metadata": {
        "colab": {
          "base_uri": "https://localhost:8080/"
        },
        "id": "2Opxh6e9UyeJ",
        "outputId": "3402d51e-7318-4158-fbb5-1817db7b6ac4"
      },
      "execution_count": 10,
      "outputs": [
        {
          "output_type": "stream",
          "name": "stdout",
          "text": [
            "Category: business\n",
            "\n",
            "Text:\n",
            "german business confidence slides german business confidence fell in february knocking hopes of a speedy recovery in europe s largest economy.  munich-based research institute ifo said that its confidence index fell to 95.5 in february from 97.5 in january  its first decline in three months. the study found that the outlook in both the manufacturing and retail sectors had worsened. observers had been hoping that a more confident business sector would signal that economic activity was picking up.   we re surprised that the ifo index has taken such a knock   said dz bank economist bernd weidensteiner.  the main reason is probably that the domestic economy is still weak  particularly in the retail trade.  economy and labour minister wolfgang clement called the dip in february s ifo confidence figure  a very mild decline . he said that despite the retreat  the index remained at a relatively high level and that he expected  a modest economic upswing  to continue.  germany s economy grew 1.6% last year after shrinking in 2003. however  the economy contracted by 0.2% during the last three months of 2004  mainly due to the reluctance of consumers to spend. latest indications are that growth is still proving elusive and ifo president hans-werner sinn said any improvement in german domestic demand was sluggish. exports had kept things going during the first half of 2004  but demand for exports was then hit as the value of the euro hit record levels making german products less competitive overseas. on top of that  the unemployment rate has been stuck at close to 10% and manufacturing firms  including daimlerchrysler  siemens and volkswagen  have been negotiating with unions over cost cutting measures. analysts said that the ifo figures and germany s continuing problems may delay an interest rate rise by the european central bank. eurozone interest rates are at 2%  but comments from senior officials have recently focused on the threat of inflation  prompting fears that interest rates may rise.\n"
          ]
        }
      ]
    },
    {
      "cell_type": "code",
      "source": [
        "text_list = train['Text'].tolist()\n",
        "tfidf_vectorizer = TfidfVectorizer(max_df=0.8, min_df=2, stop_words='english')\n",
        "\n",
        "tfidf_matrix = tfidf_vectorizer.fit_transform(text_list)\n",
        "\n",
        "tfidf_feature_names = tfidf_vectorizer.get_feature_names_out()"
      ],
      "metadata": {
        "id": "s5Be5Y6ygFBy"
      },
      "execution_count": 11,
      "outputs": []
    },
    {
      "cell_type": "markdown",
      "source": [
        "Load the English Stop Words and cleaning data from Lemmas, Stop Words,"
      ],
      "metadata": {
        "id": "HEv5SSLwyL6s"
      }
    },
    {
      "cell_type": "code",
      "source": [
        "\n",
        "def preprocess_text(text):\n",
        "    # Removing Single Letter\n",
        "    text = re.sub(r'\\s+[a-zA-Z]\\s+', ' ', text)\n",
        "    # Removing Punctuation\n",
        "    text = re.sub(r'[^\\w\\s]', '', text)\n",
        "    # Removing Numbers\n",
        "    text = re.sub(r'\\d+', '', text)\n",
        "    # Removing Extra White Space\n",
        "    text = re.sub(r'\\s+', ' ', text)\n",
        "    return text\n",
        "\n",
        "\n",
        "def cleantext(text):\n",
        "  text = text.str.lower()\n",
        "  text = preprocess_text(test)\n",
        "  tokenized_text = tokenize(text)\n",
        "  tokenized_text = [words for words in tokenized_text if words not in stopwords]\n",
        "  return text\n"
      ],
      "metadata": {
        "id": "grfuoFxIVz-v"
      },
      "execution_count": 13,
      "outputs": []
    },
    {
      "cell_type": "code",
      "source": [],
      "metadata": {
        "id": "htzTKhSVQFko"
      },
      "execution_count": 13,
      "outputs": []
    },
    {
      "cell_type": "code",
      "source": [
        "lemmatize = spacy.load(\"en_core_web_sm\")\n",
        "stopwords = set(stopwords.words('english'))\n",
        "def cleantext(text):\n",
        "    text = preprocess_text(text)\n",
        "    tokenized_text = tokenize(text)\n",
        "    words = [word for word in tokenized_text if word not in stopwords]\n",
        "    text = lemmatize(text)\n",
        "    words = [token.lemma_ for token in text]\n",
        "    text = ' '.join(words)\n",
        "\n",
        "    return text"
      ],
      "metadata": {
        "id": "lUbKYyVYQOXx"
      },
      "execution_count": 14,
      "outputs": []
    },
    {
      "cell_type": "code",
      "source": [
        "vectorize = np.vectorize(cleantext)\n",
        "train_clean = vectorize(train['Text'])\n",
        "test_clean = vectorize(test['Text'])"
      ],
      "metadata": {
        "id": "xzIyrNzzRbOE"
      },
      "execution_count": 15,
      "outputs": []
    },
    {
      "cell_type": "markdown",
      "source": [
        "Store the cleaned and vectorized data in the dataframe. Also visual comparison between the original and cleaned text for one article. As can be seen, the single letters, punctuation, and plurals."
      ],
      "metadata": {
        "id": "BwZamSTHmpDD"
      }
    },
    {
      "cell_type": "code",
      "source": [
        "print(train['Text'][1])\n",
        "print(train_clean[1])\n",
        "train['Clean_Text']=train_clean\n",
        "train['Clean_Text']"
      ],
      "metadata": {
        "colab": {
          "base_uri": "https://localhost:8080/"
        },
        "id": "zNYI1yIvTX3D",
        "outputId": "ff81ca6b-9ff3-43ee-829e-2d0f866e83f2"
      },
      "execution_count": 16,
      "outputs": [
        {
          "output_type": "stream",
          "name": "stdout",
          "text": [
            "german business confidence slides german business confidence fell in february knocking hopes of a speedy recovery in europe s largest economy.  munich-based research institute ifo said that its confidence index fell to 95.5 in february from 97.5 in january  its first decline in three months. the study found that the outlook in both the manufacturing and retail sectors had worsened. observers had been hoping that a more confident business sector would signal that economic activity was picking up.   we re surprised that the ifo index has taken such a knock   said dz bank economist bernd weidensteiner.  the main reason is probably that the domestic economy is still weak  particularly in the retail trade.  economy and labour minister wolfgang clement called the dip in february s ifo confidence figure  a very mild decline . he said that despite the retreat  the index remained at a relatively high level and that he expected  a modest economic upswing  to continue.  germany s economy grew 1.6% last year after shrinking in 2003. however  the economy contracted by 0.2% during the last three months of 2004  mainly due to the reluctance of consumers to spend. latest indications are that growth is still proving elusive and ifo president hans-werner sinn said any improvement in german domestic demand was sluggish. exports had kept things going during the first half of 2004  but demand for exports was then hit as the value of the euro hit record levels making german products less competitive overseas. on top of that  the unemployment rate has been stuck at close to 10% and manufacturing firms  including daimlerchrysler  siemens and volkswagen  have been negotiating with unions over cost cutting measures. analysts said that the ifo figures and germany s continuing problems may delay an interest rate rise by the european central bank. eurozone interest rates are at 2%  but comments from senior officials have recently focused on the threat of inflation  prompting fears that interest rates may rise.\n",
            "german business confidence slide german business confidence fall in february knock hope of speedy recovery in europe large economy munichbase research institute ifo say that its confidence index fall to in february from in january its first decline in three month the study find that the outlook in both the manufacturing and retail sector have worsen observer have be hope that more confident business sector would signal that economic activity be pick up we re surprise that the ifo index have take such knock say dz bank economist bernd weidensteiner the main reason be probably that the domestic economy be still weak particularly in the retail trade economy and labour minister wolfgang clement call the dip in february ifo confidence figure very mild decline he say that despite the retreat the index remain at relatively high level and that he expect modest economic upswing to continue germany economy grow last year after shrink in however the economy contract by during the last three month of mainly due to the reluctance of consumer to spend late indication be that growth be still prove elusive and ifo president hanswerner sinn say any improvement in german domestic demand be sluggish export have keep thing go during the first half of but demand for export be then hit as the value of the euro hit record level make german product less competitive overseas on top of that the unemployment rate have be stick at close to and manufacturing firm include daimlerchrysler siemen and volkswagen have be negotiate with union over cost cutting measure analyst say that the ifo figure and germany continue problem may delay an interest rate rise by the european central bank eurozone interest rate be at but comment from senior official have recently focus on the threat of inflation prompt fear that interest rate may rise\n"
          ]
        },
        {
          "output_type": "execute_result",
          "data": {
            "text/plain": [
              "0       worldcom exboss launches defence lawyer defend...\n",
              "1       german business confidence slide german busine...\n",
              "2       bbc poll indicate economic gloom citizen in ma...\n",
              "3       lifestyle govern mobile choice fast well or fu...\n",
              "4       enron boss in m payout eighteen former enron d...\n",
              "                              ...                        \n",
              "1485    double eviction from big brother model caprice...\n",
              "1486    dj double act revamp chart show dj duo jk and ...\n",
              "1487    weak dollar hit reuter revenue at medium group...\n",
              "1488    apple ipod family expand market apple have exp...\n",
              "1489    santy worm make unwelcome visit thousand of we...\n",
              "Name: Clean_Text, Length: 1490, dtype: object"
            ]
          },
          "metadata": {},
          "execution_count": 16
        }
      ]
    },
    {
      "cell_type": "code",
      "source": [
        "vectorizer = TfidfVectorizer()\n",
        "vector = vectorizer.fit(train_clean)\n",
        "trainX = vector.transform(train_clean)\n",
        "testX = vector.transform(test_clean)\n",
        "trainy = train['Category']\n",
        "testy = Answer['Category']"
      ],
      "metadata": {
        "id": "K2ZWiRSzbbiS"
      },
      "execution_count": 17,
      "outputs": []
    },
    {
      "cell_type": "markdown",
      "source": [
        "Above is vectorizing the cleaned data and stored the x and y variables for the training and test sets. Below is training a model with one set of hyperparameters."
      ],
      "metadata": {
        "id": "-AfJoijsAOxR"
      }
    },
    {
      "cell_type": "code",
      "source": [
        "n_components = len(np.unique(train['Category'].values))\n",
        "max_iter = [100, 200, 400, 600, 800]\n",
        "init = ['random', 'nndsvda', 'nndsvdar']\n",
        "l1_ratio = [0.0,0.25,0.5,1.0]"
      ],
      "metadata": {
        "id": "x9K8lOUNehA1"
      },
      "execution_count": 18,
      "outputs": []
    },
    {
      "cell_type": "code",
      "source": [
        "model = NMF(n_components=5, init=init[1],max_iter=200, l1_ratio=0.5)\n",
        "model_fit = model.fit(X=trainX, y = trainy)\n",
        "print(pd.DataFrame(model.transform(trainX)).head())\n",
        "preds = model_fit.transform(trainX)\n",
        "predictions = np.argmax(preds, axis=1)\n",
        "predictions"
      ],
      "metadata": {
        "colab": {
          "base_uri": "https://localhost:8080/"
        },
        "id": "iD4zvmRNJ2WL",
        "outputId": "6a394ed5-1899-4700-c0c7-dcda2b88a401"
      },
      "execution_count": 19,
      "outputs": [
        {
          "output_type": "stream",
          "name": "stdout",
          "text": [
            "          0         1         2         3         4\n",
            "0  0.045488  0.047132  0.006263  0.001484  0.000000\n",
            "1  0.163457  0.000000  0.000000  0.000000  0.000000\n",
            "2  0.101132  0.036118  0.024172  0.055519  0.006977\n",
            "3  0.000000  0.000000  0.000000  0.248850  0.000000\n",
            "4  0.108228  0.012401  0.017555  0.015391  0.030934\n"
          ]
        },
        {
          "output_type": "execute_result",
          "data": {
            "text/plain": [
              "array([1, 0, 0, ..., 0, 3, 3])"
            ]
          },
          "metadata": {},
          "execution_count": 19
        }
      ]
    },
    {
      "cell_type": "markdown",
      "source": [
        "The above model produced an accuracy score of .89, which is very accurate."
      ],
      "metadata": {
        "id": "u8ClNldDwtj4"
      }
    },
    {
      "cell_type": "code",
      "source": [
        "classify = LogisticRegression()\n",
        "classify.fit(preds, trainy)\n",
        "pred = classify.predict(preds)\n",
        "accuracy_score(trainy, pred)"
      ],
      "metadata": {
        "colab": {
          "base_uri": "https://localhost:8080/"
        },
        "id": "KSaqzotennLi",
        "outputId": "7b3a406d-0f47-41ff-f870-15d47118756f"
      },
      "execution_count": 20,
      "outputs": [
        {
          "output_type": "execute_result",
          "data": {
            "text/plain": [
              "0.8919463087248322"
            ]
          },
          "metadata": {},
          "execution_count": 20
        }
      ]
    },
    {
      "cell_type": "markdown",
      "source": [
        "Creating a pipeline and training 188 models using hyperparameters for both the Tfidf Vectorizer and NMF. The score is being calculated by the accuracy score module for sklearn."
      ],
      "metadata": {
        "id": "4lAxGRR5xAnH"
      }
    },
    {
      "cell_type": "code",
      "source": [
        "pipeline = Pipeline([('tfidf', TfidfVectorizer(stop_words = 'english', encoding = 'latin-1', ngram_range = (1,2))), ('nmf', NMF()), ('classifier', LogisticRegression())\n",
        "    ])\n",
        "parameters = {\n",
        "        'tfidf__max_df': [0.85,0.90,0.95],\n",
        "        'tfidf__min_df': [0,2, 4],\n",
        "        'nmf__init': ['nndsvda', 'random'],\n",
        "        'nmf__n_components': [5],\n",
        "        'nmf__l1_ratio': [0, 0.5, 1],\n",
        "        'nmf__beta_loss': ['frobenius', 'kullback-leibler'],\n",
        "        'nmf__max_iter': [200, 400]\n",
        "    }\n",
        "scoring = make_scorer(accuracy_score)\n",
        "gridsearch = GridSearchCV(pipeline, param_grid = parameters, scoring = scoring)\n",
        "gridsearch.fit(train['Clean_Text'], trainy)"
      ],
      "metadata": {
        "colab": {
          "base_uri": "https://localhost:8080/",
          "height": 1000
        },
        "id": "JdA_jsgG9Ndy",
        "outputId": "23f2527d-082e-4c4b-9564-c8bc00db4029"
      },
      "execution_count": 22,
      "outputs": [
        {
          "output_type": "stream",
          "name": "stderr",
          "text": [
            "/usr/local/lib/python3.10/dist-packages/sklearn/decomposition/_nmf.py:1665: ConvergenceWarning: Maximum number of iterations 200 reached. Increase it to improve convergence.\n",
            "  warnings.warn(\n",
            "/usr/local/lib/python3.10/dist-packages/sklearn/decomposition/_nmf.py:1665: ConvergenceWarning: Maximum number of iterations 200 reached. Increase it to improve convergence.\n",
            "  warnings.warn(\n",
            "/usr/local/lib/python3.10/dist-packages/sklearn/decomposition/_nmf.py:1665: ConvergenceWarning: Maximum number of iterations 200 reached. Increase it to improve convergence.\n",
            "  warnings.warn(\n",
            "/usr/local/lib/python3.10/dist-packages/sklearn/decomposition/_nmf.py:1665: ConvergenceWarning: Maximum number of iterations 200 reached. Increase it to improve convergence.\n",
            "  warnings.warn(\n",
            "/usr/local/lib/python3.10/dist-packages/sklearn/decomposition/_nmf.py:1665: ConvergenceWarning: Maximum number of iterations 400 reached. Increase it to improve convergence.\n",
            "  warnings.warn(\n",
            "/usr/local/lib/python3.10/dist-packages/sklearn/model_selection/_validation.py:378: FitFailedWarning: \n",
            "540 fits failed out of a total of 1080.\n",
            "The score on these train-test partitions for these parameters will be set to nan.\n",
            "If these failures are not expected, you can try to debug them by setting error_score='raise'.\n",
            "\n",
            "Below are more details about the failures:\n",
            "--------------------------------------------------------------------------------\n",
            "540 fits failed with the following error:\n",
            "Traceback (most recent call last):\n",
            "  File \"/usr/local/lib/python3.10/dist-packages/sklearn/model_selection/_validation.py\", line 686, in _fit_and_score\n",
            "    estimator.fit(X_train, y_train, **fit_params)\n",
            "  File \"/usr/local/lib/python3.10/dist-packages/sklearn/pipeline.py\", line 401, in fit\n",
            "    Xt = self._fit(X, y, **fit_params_steps)\n",
            "  File \"/usr/local/lib/python3.10/dist-packages/sklearn/pipeline.py\", line 359, in _fit\n",
            "    X, fitted_transformer = fit_transform_one_cached(\n",
            "  File \"/usr/local/lib/python3.10/dist-packages/joblib/memory.py\", line 312, in __call__\n",
            "    return self.func(*args, **kwargs)\n",
            "  File \"/usr/local/lib/python3.10/dist-packages/sklearn/pipeline.py\", line 893, in _fit_transform_one\n",
            "    res = transformer.fit_transform(X, y, **fit_params)\n",
            "  File \"/usr/local/lib/python3.10/dist-packages/sklearn/utils/_set_output.py\", line 140, in wrapped\n",
            "    data_to_wrap = f(self, X, *args, **kwargs)\n",
            "  File \"/usr/local/lib/python3.10/dist-packages/sklearn/decomposition/_nmf.py\", line 1566, in fit_transform\n",
            "    W, H, n_iter = self._fit_transform(X, W=W, H=H)\n",
            "  File \"/usr/local/lib/python3.10/dist-packages/sklearn/decomposition/_nmf.py\", line 1615, in _fit_transform\n",
            "    self._check_params(X)\n",
            "  File \"/usr/local/lib/python3.10/dist-packages/sklearn/decomposition/_nmf.py\", line 1519, in _check_params\n",
            "    raise ValueError(\n",
            "ValueError: Invalid beta_loss parameter: solver 'cd' does not handle beta_loss = 'kullback-leibler'\n",
            "\n",
            "  warnings.warn(some_fits_failed_message, FitFailedWarning)\n",
            "/usr/local/lib/python3.10/dist-packages/sklearn/model_selection/_search.py:952: UserWarning: One or more of the test scores are non-finite: [0.8852349  0.89395973 0.8966443  0.88590604 0.8966443  0.90134228\n",
            " 0.88590604 0.8966443  0.90134228 0.8852349  0.89395973 0.8966443\n",
            " 0.88590604 0.8966443  0.90134228 0.88590604 0.8966443  0.90134228\n",
            " 0.8852349  0.89395973 0.8966443  0.88590604 0.8966443  0.90134228\n",
            " 0.88590604 0.8966443  0.90134228 0.8852349  0.89395973 0.8966443\n",
            " 0.88590604 0.8966443  0.90134228 0.88590604 0.8966443  0.90134228\n",
            " 0.8852349  0.89395973 0.8966443  0.88590604 0.8966443  0.90134228\n",
            " 0.88590604 0.8966443  0.90134228 0.8852349  0.89395973 0.8966443\n",
            " 0.88590604 0.8966443  0.90134228 0.88590604 0.8966443  0.90134228\n",
            " 0.45369128 0.67583893 0.82281879 0.45838926 0.6590604  0.81342282\n",
            " 0.45771812 0.65436242 0.82080537 0.45771812 0.65704698 0.8409396\n",
            " 0.45167785 0.65771812 0.84765101 0.46040268 0.67449664 0.8442953\n",
            " 0.44832215 0.64899329 0.84966443 0.45838926 0.6590604  0.79731544\n",
            " 0.45302013 0.67516779 0.84697987 0.45033557 0.67114094 0.81342282\n",
            " 0.44765101 0.65704698 0.81409396 0.45369128 0.66040268 0.78657718\n",
            " 0.46778523 0.6590604  0.84630872 0.4557047  0.65234899 0.84228188\n",
            " 0.43892617 0.67986577 0.84228188 0.45771812 0.63691275 0.80402685\n",
            " 0.45973154 0.67785235 0.81677852 0.45838926 0.65369128 0.82013423\n",
            "        nan        nan        nan        nan        nan        nan\n",
            "        nan        nan        nan        nan        nan        nan\n",
            "        nan        nan        nan        nan        nan        nan\n",
            "        nan        nan        nan        nan        nan        nan\n",
            "        nan        nan        nan        nan        nan        nan\n",
            "        nan        nan        nan        nan        nan        nan\n",
            "        nan        nan        nan        nan        nan        nan\n",
            "        nan        nan        nan        nan        nan        nan\n",
            "        nan        nan        nan        nan        nan        nan\n",
            "        nan        nan        nan        nan        nan        nan\n",
            "        nan        nan        nan        nan        nan        nan\n",
            "        nan        nan        nan        nan        nan        nan\n",
            "        nan        nan        nan        nan        nan        nan\n",
            "        nan        nan        nan        nan        nan        nan\n",
            "        nan        nan        nan        nan        nan        nan\n",
            "        nan        nan        nan        nan        nan        nan\n",
            "        nan        nan        nan        nan        nan        nan\n",
            "        nan        nan        nan        nan        nan        nan]\n",
            "  warnings.warn(\n"
          ]
        },
        {
          "output_type": "execute_result",
          "data": {
            "text/plain": [
              "GridSearchCV(estimator=Pipeline(steps=[('tfidf',\n",
              "                                        TfidfVectorizer(encoding='latin-1',\n",
              "                                                        ngram_range=(1, 2),\n",
              "                                                        stop_words='english')),\n",
              "                                       ('nmf', NMF()),\n",
              "                                       ('classifier', LogisticRegression())]),\n",
              "             param_grid={'nmf__beta_loss': ['frobenius', 'kullback-leibler'],\n",
              "                         'nmf__init': ['nndsvda', 'random'],\n",
              "                         'nmf__l1_ratio': [0, 0.5, 1],\n",
              "                         'nmf__max_iter': [200, 400], 'nmf__n_components': [5],\n",
              "                         'tfidf__max_df': [0.85, 0.9, 0.95],\n",
              "                         'tfidf__min_df': [0, 2, 4]},\n",
              "             scoring=make_scorer(accuracy_score))"
            ],
            "text/html": [
              "<style>#sk-container-id-1 {color: black;background-color: white;}#sk-container-id-1 pre{padding: 0;}#sk-container-id-1 div.sk-toggleable {background-color: white;}#sk-container-id-1 label.sk-toggleable__label {cursor: pointer;display: block;width: 100%;margin-bottom: 0;padding: 0.3em;box-sizing: border-box;text-align: center;}#sk-container-id-1 label.sk-toggleable__label-arrow:before {content: \"▸\";float: left;margin-right: 0.25em;color: #696969;}#sk-container-id-1 label.sk-toggleable__label-arrow:hover:before {color: black;}#sk-container-id-1 div.sk-estimator:hover label.sk-toggleable__label-arrow:before {color: black;}#sk-container-id-1 div.sk-toggleable__content {max-height: 0;max-width: 0;overflow: hidden;text-align: left;background-color: #f0f8ff;}#sk-container-id-1 div.sk-toggleable__content pre {margin: 0.2em;color: black;border-radius: 0.25em;background-color: #f0f8ff;}#sk-container-id-1 input.sk-toggleable__control:checked~div.sk-toggleable__content {max-height: 200px;max-width: 100%;overflow: auto;}#sk-container-id-1 input.sk-toggleable__control:checked~label.sk-toggleable__label-arrow:before {content: \"▾\";}#sk-container-id-1 div.sk-estimator input.sk-toggleable__control:checked~label.sk-toggleable__label {background-color: #d4ebff;}#sk-container-id-1 div.sk-label input.sk-toggleable__control:checked~label.sk-toggleable__label {background-color: #d4ebff;}#sk-container-id-1 input.sk-hidden--visually {border: 0;clip: rect(1px 1px 1px 1px);clip: rect(1px, 1px, 1px, 1px);height: 1px;margin: -1px;overflow: hidden;padding: 0;position: absolute;width: 1px;}#sk-container-id-1 div.sk-estimator {font-family: monospace;background-color: #f0f8ff;border: 1px dotted black;border-radius: 0.25em;box-sizing: border-box;margin-bottom: 0.5em;}#sk-container-id-1 div.sk-estimator:hover {background-color: #d4ebff;}#sk-container-id-1 div.sk-parallel-item::after {content: \"\";width: 100%;border-bottom: 1px solid gray;flex-grow: 1;}#sk-container-id-1 div.sk-label:hover label.sk-toggleable__label {background-color: #d4ebff;}#sk-container-id-1 div.sk-serial::before {content: \"\";position: absolute;border-left: 1px solid gray;box-sizing: border-box;top: 0;bottom: 0;left: 50%;z-index: 0;}#sk-container-id-1 div.sk-serial {display: flex;flex-direction: column;align-items: center;background-color: white;padding-right: 0.2em;padding-left: 0.2em;position: relative;}#sk-container-id-1 div.sk-item {position: relative;z-index: 1;}#sk-container-id-1 div.sk-parallel {display: flex;align-items: stretch;justify-content: center;background-color: white;position: relative;}#sk-container-id-1 div.sk-item::before, #sk-container-id-1 div.sk-parallel-item::before {content: \"\";position: absolute;border-left: 1px solid gray;box-sizing: border-box;top: 0;bottom: 0;left: 50%;z-index: -1;}#sk-container-id-1 div.sk-parallel-item {display: flex;flex-direction: column;z-index: 1;position: relative;background-color: white;}#sk-container-id-1 div.sk-parallel-item:first-child::after {align-self: flex-end;width: 50%;}#sk-container-id-1 div.sk-parallel-item:last-child::after {align-self: flex-start;width: 50%;}#sk-container-id-1 div.sk-parallel-item:only-child::after {width: 0;}#sk-container-id-1 div.sk-dashed-wrapped {border: 1px dashed gray;margin: 0 0.4em 0.5em 0.4em;box-sizing: border-box;padding-bottom: 0.4em;background-color: white;}#sk-container-id-1 div.sk-label label {font-family: monospace;font-weight: bold;display: inline-block;line-height: 1.2em;}#sk-container-id-1 div.sk-label-container {text-align: center;}#sk-container-id-1 div.sk-container {/* jupyter's `normalize.less` sets `[hidden] { display: none; }` but bootstrap.min.css set `[hidden] { display: none !important; }` so we also need the `!important` here to be able to override the default hidden behavior on the sphinx rendered scikit-learn.org. See: https://github.com/scikit-learn/scikit-learn/issues/21755 */display: inline-block !important;position: relative;}#sk-container-id-1 div.sk-text-repr-fallback {display: none;}</style><div id=\"sk-container-id-1\" class=\"sk-top-container\"><div class=\"sk-text-repr-fallback\"><pre>GridSearchCV(estimator=Pipeline(steps=[(&#x27;tfidf&#x27;,\n",
              "                                        TfidfVectorizer(encoding=&#x27;latin-1&#x27;,\n",
              "                                                        ngram_range=(1, 2),\n",
              "                                                        stop_words=&#x27;english&#x27;)),\n",
              "                                       (&#x27;nmf&#x27;, NMF()),\n",
              "                                       (&#x27;classifier&#x27;, LogisticRegression())]),\n",
              "             param_grid={&#x27;nmf__beta_loss&#x27;: [&#x27;frobenius&#x27;, &#x27;kullback-leibler&#x27;],\n",
              "                         &#x27;nmf__init&#x27;: [&#x27;nndsvda&#x27;, &#x27;random&#x27;],\n",
              "                         &#x27;nmf__l1_ratio&#x27;: [0, 0.5, 1],\n",
              "                         &#x27;nmf__max_iter&#x27;: [200, 400], &#x27;nmf__n_components&#x27;: [5],\n",
              "                         &#x27;tfidf__max_df&#x27;: [0.85, 0.9, 0.95],\n",
              "                         &#x27;tfidf__min_df&#x27;: [0, 2, 4]},\n",
              "             scoring=make_scorer(accuracy_score))</pre><b>In a Jupyter environment, please rerun this cell to show the HTML representation or trust the notebook. <br />On GitHub, the HTML representation is unable to render, please try loading this page with nbviewer.org.</b></div><div class=\"sk-container\" hidden><div class=\"sk-item sk-dashed-wrapped\"><div class=\"sk-label-container\"><div class=\"sk-label sk-toggleable\"><input class=\"sk-toggleable__control sk-hidden--visually\" id=\"sk-estimator-id-1\" type=\"checkbox\" ><label for=\"sk-estimator-id-1\" class=\"sk-toggleable__label sk-toggleable__label-arrow\">GridSearchCV</label><div class=\"sk-toggleable__content\"><pre>GridSearchCV(estimator=Pipeline(steps=[(&#x27;tfidf&#x27;,\n",
              "                                        TfidfVectorizer(encoding=&#x27;latin-1&#x27;,\n",
              "                                                        ngram_range=(1, 2),\n",
              "                                                        stop_words=&#x27;english&#x27;)),\n",
              "                                       (&#x27;nmf&#x27;, NMF()),\n",
              "                                       (&#x27;classifier&#x27;, LogisticRegression())]),\n",
              "             param_grid={&#x27;nmf__beta_loss&#x27;: [&#x27;frobenius&#x27;, &#x27;kullback-leibler&#x27;],\n",
              "                         &#x27;nmf__init&#x27;: [&#x27;nndsvda&#x27;, &#x27;random&#x27;],\n",
              "                         &#x27;nmf__l1_ratio&#x27;: [0, 0.5, 1],\n",
              "                         &#x27;nmf__max_iter&#x27;: [200, 400], &#x27;nmf__n_components&#x27;: [5],\n",
              "                         &#x27;tfidf__max_df&#x27;: [0.85, 0.9, 0.95],\n",
              "                         &#x27;tfidf__min_df&#x27;: [0, 2, 4]},\n",
              "             scoring=make_scorer(accuracy_score))</pre></div></div></div><div class=\"sk-parallel\"><div class=\"sk-parallel-item\"><div class=\"sk-item\"><div class=\"sk-label-container\"><div class=\"sk-label sk-toggleable\"><input class=\"sk-toggleable__control sk-hidden--visually\" id=\"sk-estimator-id-2\" type=\"checkbox\" ><label for=\"sk-estimator-id-2\" class=\"sk-toggleable__label sk-toggleable__label-arrow\">estimator: Pipeline</label><div class=\"sk-toggleable__content\"><pre>Pipeline(steps=[(&#x27;tfidf&#x27;,\n",
              "                 TfidfVectorizer(encoding=&#x27;latin-1&#x27;, ngram_range=(1, 2),\n",
              "                                 stop_words=&#x27;english&#x27;)),\n",
              "                (&#x27;nmf&#x27;, NMF()), (&#x27;classifier&#x27;, LogisticRegression())])</pre></div></div></div><div class=\"sk-serial\"><div class=\"sk-item\"><div class=\"sk-serial\"><div class=\"sk-item\"><div class=\"sk-estimator sk-toggleable\"><input class=\"sk-toggleable__control sk-hidden--visually\" id=\"sk-estimator-id-3\" type=\"checkbox\" ><label for=\"sk-estimator-id-3\" class=\"sk-toggleable__label sk-toggleable__label-arrow\">TfidfVectorizer</label><div class=\"sk-toggleable__content\"><pre>TfidfVectorizer(encoding=&#x27;latin-1&#x27;, ngram_range=(1, 2), stop_words=&#x27;english&#x27;)</pre></div></div></div><div class=\"sk-item\"><div class=\"sk-estimator sk-toggleable\"><input class=\"sk-toggleable__control sk-hidden--visually\" id=\"sk-estimator-id-4\" type=\"checkbox\" ><label for=\"sk-estimator-id-4\" class=\"sk-toggleable__label sk-toggleable__label-arrow\">NMF</label><div class=\"sk-toggleable__content\"><pre>NMF()</pre></div></div></div><div class=\"sk-item\"><div class=\"sk-estimator sk-toggleable\"><input class=\"sk-toggleable__control sk-hidden--visually\" id=\"sk-estimator-id-5\" type=\"checkbox\" ><label for=\"sk-estimator-id-5\" class=\"sk-toggleable__label sk-toggleable__label-arrow\">LogisticRegression</label><div class=\"sk-toggleable__content\"><pre>LogisticRegression()</pre></div></div></div></div></div></div></div></div></div></div></div></div>"
            ]
          },
          "metadata": {},
          "execution_count": 22
        }
      ]
    },
    {
      "cell_type": "markdown",
      "source": [
        "The best score for any of the models is .90 with the below best parameters."
      ],
      "metadata": {
        "id": "JSqglR22xb2W"
      }
    },
    {
      "cell_type": "code",
      "source": [
        "gridsearch.best_estimator_\n",
        "print(gridsearch.best_params_)\n",
        "gridsearch.best_score_"
      ],
      "metadata": {
        "colab": {
          "base_uri": "https://localhost:8080/"
        },
        "id": "ajKIesACV9qO",
        "outputId": "7bbad652-8abd-49ba-afc3-abd7eb377ee4"
      },
      "execution_count": 23,
      "outputs": [
        {
          "output_type": "stream",
          "name": "stdout",
          "text": [
            "{'nmf__beta_loss': 'frobenius', 'nmf__init': 'nndsvda', 'nmf__l1_ratio': 0, 'nmf__max_iter': 200, 'nmf__n_components': 5, 'tfidf__max_df': 0.9, 'tfidf__min_df': 4}\n"
          ]
        },
        {
          "output_type": "execute_result",
          "data": {
            "text/plain": [
              "0.9013422818791946"
            ]
          },
          "metadata": {},
          "execution_count": 23
        }
      ]
    },
    {
      "cell_type": "markdown",
      "source": [
        "Below is a pipeline to train a supervised svc model. This produced a very accurate .98 accuracy."
      ],
      "metadata": {
        "id": "sHy68Ks0xjGb"
      }
    },
    {
      "cell_type": "code",
      "source": [
        "pipeline1 = Pipeline([('tfidf', TfidfVectorizer(stop_words = 'english', encoding = 'latin-1', ngram_range = (1,2))), ('svc', SVC())])\n",
        "params = {'tfidf__max_df': [0.85,0.90,0.95],\n",
        "          'tfidf__min_df': [0,2, 4],\n",
        "          'svc__C': [0.1, 1, 10]\n",
        "          ,'svc__kernel': ['rbf']\n",
        "          ,'svc__gamma': [0.1, 1, 10]}\n",
        "gridsearch1 = GridSearchCV(pipeline1, param_grid = params, scoring = scoring)"
      ],
      "metadata": {
        "id": "4xVOID28cmL_"
      },
      "execution_count": 34,
      "outputs": []
    },
    {
      "cell_type": "code",
      "source": [
        "gridsearch1.fit(train['Clean_Text'], trainy)"
      ],
      "metadata": {
        "colab": {
          "base_uri": "https://localhost:8080/",
          "height": 152
        },
        "id": "xvVBRhbVgD-l",
        "outputId": "292f41a0-8881-4a26-8c9c-80a50b820ead"
      },
      "execution_count": 35,
      "outputs": [
        {
          "output_type": "execute_result",
          "data": {
            "text/plain": [
              "GridSearchCV(estimator=Pipeline(steps=[('tfidf',\n",
              "                                        TfidfVectorizer(encoding='latin-1',\n",
              "                                                        ngram_range=(1, 2),\n",
              "                                                        stop_words='english')),\n",
              "                                       ('svc', SVC())]),\n",
              "             param_grid={'svc__C': [0.1, 1, 10], 'svc__gamma': [0.1, 1, 10],\n",
              "                         'svc__kernel': ['rbf'],\n",
              "                         'tfidf__max_df': [0.85, 0.9, 0.95],\n",
              "                         'tfidf__min_df': [0, 2, 4]},\n",
              "             scoring=make_scorer(accuracy_score))"
            ],
            "text/html": [
              "<style>#sk-container-id-2 {color: black;background-color: white;}#sk-container-id-2 pre{padding: 0;}#sk-container-id-2 div.sk-toggleable {background-color: white;}#sk-container-id-2 label.sk-toggleable__label {cursor: pointer;display: block;width: 100%;margin-bottom: 0;padding: 0.3em;box-sizing: border-box;text-align: center;}#sk-container-id-2 label.sk-toggleable__label-arrow:before {content: \"▸\";float: left;margin-right: 0.25em;color: #696969;}#sk-container-id-2 label.sk-toggleable__label-arrow:hover:before {color: black;}#sk-container-id-2 div.sk-estimator:hover label.sk-toggleable__label-arrow:before {color: black;}#sk-container-id-2 div.sk-toggleable__content {max-height: 0;max-width: 0;overflow: hidden;text-align: left;background-color: #f0f8ff;}#sk-container-id-2 div.sk-toggleable__content pre {margin: 0.2em;color: black;border-radius: 0.25em;background-color: #f0f8ff;}#sk-container-id-2 input.sk-toggleable__control:checked~div.sk-toggleable__content {max-height: 200px;max-width: 100%;overflow: auto;}#sk-container-id-2 input.sk-toggleable__control:checked~label.sk-toggleable__label-arrow:before {content: \"▾\";}#sk-container-id-2 div.sk-estimator input.sk-toggleable__control:checked~label.sk-toggleable__label {background-color: #d4ebff;}#sk-container-id-2 div.sk-label input.sk-toggleable__control:checked~label.sk-toggleable__label {background-color: #d4ebff;}#sk-container-id-2 input.sk-hidden--visually {border: 0;clip: rect(1px 1px 1px 1px);clip: rect(1px, 1px, 1px, 1px);height: 1px;margin: -1px;overflow: hidden;padding: 0;position: absolute;width: 1px;}#sk-container-id-2 div.sk-estimator {font-family: monospace;background-color: #f0f8ff;border: 1px dotted black;border-radius: 0.25em;box-sizing: border-box;margin-bottom: 0.5em;}#sk-container-id-2 div.sk-estimator:hover {background-color: #d4ebff;}#sk-container-id-2 div.sk-parallel-item::after {content: \"\";width: 100%;border-bottom: 1px solid gray;flex-grow: 1;}#sk-container-id-2 div.sk-label:hover label.sk-toggleable__label {background-color: #d4ebff;}#sk-container-id-2 div.sk-serial::before {content: \"\";position: absolute;border-left: 1px solid gray;box-sizing: border-box;top: 0;bottom: 0;left: 50%;z-index: 0;}#sk-container-id-2 div.sk-serial {display: flex;flex-direction: column;align-items: center;background-color: white;padding-right: 0.2em;padding-left: 0.2em;position: relative;}#sk-container-id-2 div.sk-item {position: relative;z-index: 1;}#sk-container-id-2 div.sk-parallel {display: flex;align-items: stretch;justify-content: center;background-color: white;position: relative;}#sk-container-id-2 div.sk-item::before, #sk-container-id-2 div.sk-parallel-item::before {content: \"\";position: absolute;border-left: 1px solid gray;box-sizing: border-box;top: 0;bottom: 0;left: 50%;z-index: -1;}#sk-container-id-2 div.sk-parallel-item {display: flex;flex-direction: column;z-index: 1;position: relative;background-color: white;}#sk-container-id-2 div.sk-parallel-item:first-child::after {align-self: flex-end;width: 50%;}#sk-container-id-2 div.sk-parallel-item:last-child::after {align-self: flex-start;width: 50%;}#sk-container-id-2 div.sk-parallel-item:only-child::after {width: 0;}#sk-container-id-2 div.sk-dashed-wrapped {border: 1px dashed gray;margin: 0 0.4em 0.5em 0.4em;box-sizing: border-box;padding-bottom: 0.4em;background-color: white;}#sk-container-id-2 div.sk-label label {font-family: monospace;font-weight: bold;display: inline-block;line-height: 1.2em;}#sk-container-id-2 div.sk-label-container {text-align: center;}#sk-container-id-2 div.sk-container {/* jupyter's `normalize.less` sets `[hidden] { display: none; }` but bootstrap.min.css set `[hidden] { display: none !important; }` so we also need the `!important` here to be able to override the default hidden behavior on the sphinx rendered scikit-learn.org. See: https://github.com/scikit-learn/scikit-learn/issues/21755 */display: inline-block !important;position: relative;}#sk-container-id-2 div.sk-text-repr-fallback {display: none;}</style><div id=\"sk-container-id-2\" class=\"sk-top-container\"><div class=\"sk-text-repr-fallback\"><pre>GridSearchCV(estimator=Pipeline(steps=[(&#x27;tfidf&#x27;,\n",
              "                                        TfidfVectorizer(encoding=&#x27;latin-1&#x27;,\n",
              "                                                        ngram_range=(1, 2),\n",
              "                                                        stop_words=&#x27;english&#x27;)),\n",
              "                                       (&#x27;svc&#x27;, SVC())]),\n",
              "             param_grid={&#x27;svc__C&#x27;: [0.1, 1, 10], &#x27;svc__gamma&#x27;: [0.1, 1, 10],\n",
              "                         &#x27;svc__kernel&#x27;: [&#x27;rbf&#x27;],\n",
              "                         &#x27;tfidf__max_df&#x27;: [0.85, 0.9, 0.95],\n",
              "                         &#x27;tfidf__min_df&#x27;: [0, 2, 4]},\n",
              "             scoring=make_scorer(accuracy_score))</pre><b>In a Jupyter environment, please rerun this cell to show the HTML representation or trust the notebook. <br />On GitHub, the HTML representation is unable to render, please try loading this page with nbviewer.org.</b></div><div class=\"sk-container\" hidden><div class=\"sk-item sk-dashed-wrapped\"><div class=\"sk-label-container\"><div class=\"sk-label sk-toggleable\"><input class=\"sk-toggleable__control sk-hidden--visually\" id=\"sk-estimator-id-6\" type=\"checkbox\" ><label for=\"sk-estimator-id-6\" class=\"sk-toggleable__label sk-toggleable__label-arrow\">GridSearchCV</label><div class=\"sk-toggleable__content\"><pre>GridSearchCV(estimator=Pipeline(steps=[(&#x27;tfidf&#x27;,\n",
              "                                        TfidfVectorizer(encoding=&#x27;latin-1&#x27;,\n",
              "                                                        ngram_range=(1, 2),\n",
              "                                                        stop_words=&#x27;english&#x27;)),\n",
              "                                       (&#x27;svc&#x27;, SVC())]),\n",
              "             param_grid={&#x27;svc__C&#x27;: [0.1, 1, 10], &#x27;svc__gamma&#x27;: [0.1, 1, 10],\n",
              "                         &#x27;svc__kernel&#x27;: [&#x27;rbf&#x27;],\n",
              "                         &#x27;tfidf__max_df&#x27;: [0.85, 0.9, 0.95],\n",
              "                         &#x27;tfidf__min_df&#x27;: [0, 2, 4]},\n",
              "             scoring=make_scorer(accuracy_score))</pre></div></div></div><div class=\"sk-parallel\"><div class=\"sk-parallel-item\"><div class=\"sk-item\"><div class=\"sk-label-container\"><div class=\"sk-label sk-toggleable\"><input class=\"sk-toggleable__control sk-hidden--visually\" id=\"sk-estimator-id-7\" type=\"checkbox\" ><label for=\"sk-estimator-id-7\" class=\"sk-toggleable__label sk-toggleable__label-arrow\">estimator: Pipeline</label><div class=\"sk-toggleable__content\"><pre>Pipeline(steps=[(&#x27;tfidf&#x27;,\n",
              "                 TfidfVectorizer(encoding=&#x27;latin-1&#x27;, ngram_range=(1, 2),\n",
              "                                 stop_words=&#x27;english&#x27;)),\n",
              "                (&#x27;svc&#x27;, SVC())])</pre></div></div></div><div class=\"sk-serial\"><div class=\"sk-item\"><div class=\"sk-serial\"><div class=\"sk-item\"><div class=\"sk-estimator sk-toggleable\"><input class=\"sk-toggleable__control sk-hidden--visually\" id=\"sk-estimator-id-8\" type=\"checkbox\" ><label for=\"sk-estimator-id-8\" class=\"sk-toggleable__label sk-toggleable__label-arrow\">TfidfVectorizer</label><div class=\"sk-toggleable__content\"><pre>TfidfVectorizer(encoding=&#x27;latin-1&#x27;, ngram_range=(1, 2), stop_words=&#x27;english&#x27;)</pre></div></div></div><div class=\"sk-item\"><div class=\"sk-estimator sk-toggleable\"><input class=\"sk-toggleable__control sk-hidden--visually\" id=\"sk-estimator-id-9\" type=\"checkbox\" ><label for=\"sk-estimator-id-9\" class=\"sk-toggleable__label sk-toggleable__label-arrow\">SVC</label><div class=\"sk-toggleable__content\"><pre>SVC()</pre></div></div></div></div></div></div></div></div></div></div></div></div>"
            ]
          },
          "metadata": {},
          "execution_count": 35
        }
      ]
    },
    {
      "cell_type": "code",
      "source": [
        "print(gridsearch1.best_score_)\n",
        "gridsearch1.best_params_"
      ],
      "metadata": {
        "colab": {
          "base_uri": "https://localhost:8080/"
        },
        "id": "RtXei-3yoDnI",
        "outputId": "cc4a53f5-a03b-470d-eaa5-9aff703e8f41"
      },
      "execution_count": 38,
      "outputs": [
        {
          "output_type": "stream",
          "name": "stdout",
          "text": [
            "0.9778523489932887\n"
          ]
        },
        {
          "output_type": "execute_result",
          "data": {
            "text/plain": [
              "{'svc__C': 10,\n",
              " 'svc__gamma': 0.1,\n",
              " 'svc__kernel': 'rbf',\n",
              " 'tfidf__max_df': 0.85,\n",
              " 'tfidf__min_df': 2}"
            ]
          },
          "metadata": {},
          "execution_count": 38
        }
      ]
    },
    {
      "cell_type": "markdown",
      "source": [
        "### **Synopsis/Conclusion**"
      ],
      "metadata": {
        "id": "KYOQMcaRyIhO"
      }
    },
    {
      "cell_type": "markdown",
      "source": [
        "The supervised learning model of SVC is more accurate for the models trained than the NMF unsupervised model, though each has their positived and negatives."
      ],
      "metadata": {
        "id": "aEOvgcrvygoK"
      }
    },
    {
      "cell_type": "markdown",
      "source": [
        "For the SVC model, this had an accuracy of .98, which is very accurate than the unsupervised NMF model. This is likely because there are labeled categories to train on, which leads to better accuracy than an unsupervised model which determines the groups organically. However, the disadvantage of SVC is the significant length of time it took to train the models, about 35 minutes of time. The NMF model was complete in less than half that time."
      ],
      "metadata": {
        "id": "rrmOfbdv0QSg"
      }
    },
    {
      "cell_type": "markdown",
      "source": [
        "The benefits of NMF is the much shorter time it took (with more combinations) than the more accurate SVC model. With completely unlabeled data, this dataset would be much more accurate than the supervised model meaning it still holds significant value. In all, both models had good to great accuracy with moderate to good performance time. This was tested in collab with an upgraded GPU, which likely decreased processing time and could be shortened further with a better GPU."
      ],
      "metadata": {
        "id": "H-09kjEw0Rqz"
      }
    },
    {
      "cell_type": "markdown",
      "source": [
        "The below code is to save the answer file from the unsupervised learning model."
      ],
      "metadata": {
        "id": "cQei4z95x1Xt"
      }
    },
    {
      "cell_type": "code",
      "source": [
        "Answer1 = pd.DataFrame()\n",
        "Answer1['ArticleId'] = Answer['ArticleId']\n",
        "Answer1['Category'] = gridsearch.predict(test_clean)\n"
      ],
      "metadata": {
        "id": "EnxYdlJkHiwv"
      },
      "execution_count": 43,
      "outputs": []
    },
    {
      "cell_type": "code",
      "source": [
        "Answer1.to_csv('Competition_Answer.csv', index = False)"
      ],
      "metadata": {
        "id": "3an424M0_DHC"
      },
      "execution_count": 49,
      "outputs": []
    },
    {
      "cell_type": "code",
      "source": [
        "from google.colab import files\n",
        "files.download('Competition_Answer.csv')"
      ],
      "metadata": {
        "colab": {
          "base_uri": "https://localhost:8080/",
          "height": 17
        },
        "id": "AIoGbveK_7g1",
        "outputId": "f2307cae-296e-472e-9481-4317f44ef696"
      },
      "execution_count": 50,
      "outputs": [
        {
          "output_type": "display_data",
          "data": {
            "text/plain": [
              "<IPython.core.display.Javascript object>"
            ],
            "application/javascript": [
              "\n",
              "    async function download(id, filename, size) {\n",
              "      if (!google.colab.kernel.accessAllowed) {\n",
              "        return;\n",
              "      }\n",
              "      const div = document.createElement('div');\n",
              "      const label = document.createElement('label');\n",
              "      label.textContent = `Downloading \"${filename}\": `;\n",
              "      div.appendChild(label);\n",
              "      const progress = document.createElement('progress');\n",
              "      progress.max = size;\n",
              "      div.appendChild(progress);\n",
              "      document.body.appendChild(div);\n",
              "\n",
              "      const buffers = [];\n",
              "      let downloaded = 0;\n",
              "\n",
              "      const channel = await google.colab.kernel.comms.open(id);\n",
              "      // Send a message to notify the kernel that we're ready.\n",
              "      channel.send({})\n",
              "\n",
              "      for await (const message of channel.messages) {\n",
              "        // Send a message to notify the kernel that we're ready.\n",
              "        channel.send({})\n",
              "        if (message.buffers) {\n",
              "          for (const buffer of message.buffers) {\n",
              "            buffers.push(buffer);\n",
              "            downloaded += buffer.byteLength;\n",
              "            progress.value = downloaded;\n",
              "          }\n",
              "        }\n",
              "      }\n",
              "      const blob = new Blob(buffers, {type: 'application/binary'});\n",
              "      const a = document.createElement('a');\n",
              "      a.href = window.URL.createObjectURL(blob);\n",
              "      a.download = filename;\n",
              "      div.appendChild(a);\n",
              "      a.click();\n",
              "      div.remove();\n",
              "    }\n",
              "  "
            ]
          },
          "metadata": {}
        },
        {
          "output_type": "display_data",
          "data": {
            "text/plain": [
              "<IPython.core.display.Javascript object>"
            ],
            "application/javascript": [
              "download(\"download_7b33f389-d0fd-42ad-948e-720bcfdc3654\", \"Competition_Answer.csv\", 9408)"
            ]
          },
          "metadata": {}
        }
      ]
    }
  ]
}